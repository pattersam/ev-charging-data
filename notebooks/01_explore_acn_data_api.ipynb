{
 "cells": [
  {
   "cell_type": "markdown",
   "id": "fae9d74c",
   "metadata": {},
   "source": [
    "# Initial exploration of the ACN-Data API\n",
    "\n",
    "Uses the HTTP API of the [ACN-Data](https://ev.caltech.edu/dataset) to download the data and inspect it.\n",
    "\n",
    "Note, this requires an API Token for the ACN-Data API to be set as the `ACN_DATA_API_TOKEN` environment variable, or provided as a parameter if using [papermill](https://papermill.readthedocs.io/en/latest/index.html) to run the notebook."
   ]
  },
  {
   "cell_type": "code",
   "execution_count": 1,
   "id": "70141ebb",
   "metadata": {},
   "outputs": [],
   "source": [
    "import datetime\n",
    "import os\n",
    "import pandas as pd\n",
    "import pprint\n",
    "\n",
    "from acnportal.acndata import DataClient"
   ]
  },
  {
   "cell_type": "code",
   "execution_count": 2,
   "id": "e21e58f2",
   "metadata": {
    "tags": [
     "parameters"
    ]
   },
   "outputs": [],
   "source": [
    "ACN_DATA_API_URL = 'https://ev.caltech.edu/api/v1/'\n",
    "ACN_DATA_API_TOKEN = os.getenv('ACN_DATA_API_TOKEN')\n",
    "START_TIME = '2019-05-01T00:00:00+00:00'  # ISO Format\n",
    "END_TIME = '2019-05-02T00:00:00+00:00'    # ISO Format"
   ]
  },
  {
   "cell_type": "code",
   "execution_count": 3,
   "id": "52f80629",
   "metadata": {},
   "outputs": [
    {
     "ename": "KeyError",
     "evalue": "'_items'",
     "output_type": "error",
     "traceback": [
      "\u001b[0;31m---------------------------------------------------------------------------\u001b[0m",
      "\u001b[0;31mKeyError\u001b[0m                                  Traceback (most recent call last)",
      "\u001b[0;32m/tmp/ipykernel_8540/2452667769.py\u001b[0m in \u001b[0;36m<module>\u001b[0;34m\u001b[0m\n\u001b[1;32m      7\u001b[0m )\n\u001b[1;32m      8\u001b[0m \u001b[0;34m\u001b[0m\u001b[0m\n\u001b[0;32m----> 9\u001b[0;31m \u001b[0mdata\u001b[0m \u001b[0;34m=\u001b[0m \u001b[0mlist\u001b[0m\u001b[0;34m(\u001b[0m\u001b[0mres\u001b[0m\u001b[0;34m)\u001b[0m\u001b[0;34m\u001b[0m\u001b[0;34m\u001b[0m\u001b[0m\n\u001b[0m\u001b[1;32m     10\u001b[0m \u001b[0;34m\u001b[0m\u001b[0m\n\u001b[1;32m     11\u001b[0m \u001b[0mprint\u001b[0m\u001b[0;34m(\u001b[0m\u001b[0;34mf\"{len(data)} rows collected\"\u001b[0m\u001b[0;34m)\u001b[0m\u001b[0;34m\u001b[0m\u001b[0;34m\u001b[0m\u001b[0m\n",
      "\u001b[0;32m/workspace/ev-charging-data/venv/lib/python3.8/site-packages/acnportal/acndata/data_client.py\u001b[0m in \u001b[0;36mget_sessions\u001b[0;34m(self, site, cond, project, sort, timeseries)\u001b[0m\n\u001b[1;32m     59\u001b[0m         \u001b[0mpayload\u001b[0m \u001b[0;34m=\u001b[0m \u001b[0mr\u001b[0m\u001b[0;34m.\u001b[0m\u001b[0mjson\u001b[0m\u001b[0;34m(\u001b[0m\u001b[0;34m)\u001b[0m\u001b[0;34m\u001b[0m\u001b[0;34m\u001b[0m\u001b[0m\n\u001b[1;32m     60\u001b[0m         \u001b[0;32mwhile\u001b[0m \u001b[0;32mTrue\u001b[0m\u001b[0;34m:\u001b[0m\u001b[0;34m\u001b[0m\u001b[0;34m\u001b[0m\u001b[0m\n\u001b[0;32m---> 61\u001b[0;31m             \u001b[0;32mfor\u001b[0m \u001b[0ms\u001b[0m \u001b[0;32min\u001b[0m \u001b[0mpayload\u001b[0m\u001b[0;34m[\u001b[0m\u001b[0;34m\"_items\"\u001b[0m\u001b[0;34m]\u001b[0m\u001b[0;34m:\u001b[0m\u001b[0;34m\u001b[0m\u001b[0;34m\u001b[0m\u001b[0m\n\u001b[0m\u001b[1;32m     62\u001b[0m                 \u001b[0mparse_dates\u001b[0m\u001b[0;34m(\u001b[0m\u001b[0ms\u001b[0m\u001b[0;34m)\u001b[0m\u001b[0;34m\u001b[0m\u001b[0;34m\u001b[0m\u001b[0m\n\u001b[1;32m     63\u001b[0m                 \u001b[0;32myield\u001b[0m \u001b[0ms\u001b[0m\u001b[0;34m\u001b[0m\u001b[0;34m\u001b[0m\u001b[0m\n",
      "\u001b[0;31mKeyError\u001b[0m: '_items'"
     ]
    }
   ],
   "source": [
    "client = DataClient(ACN_DATA_API_TOKEN, ACN_DATA_API_URL)\n",
    "\n",
    "res = client.get_sessions_by_time(\n",
    "    'caltech',\n",
    "    start=datetime.datetime.fromisoformat(START_TIME),\n",
    "    end=datetime.datetime.fromisoformat(END_TIME),\n",
    ")\n",
    "\n",
    "data = list(res)\n",
    "\n",
    "print(f\"{len(data)} rows collected\")"
   ]
  },
  {
   "cell_type": "code",
   "execution_count": null,
   "id": "4c31c4bd",
   "metadata": {},
   "outputs": [
    {
     "name": "stdout",
     "output_type": "stream",
     "text": [
      "{'_id': '5cde00a7f9af8b123b067201',\n",
      " 'clusterID': '0039',\n",
      " 'connectionTime': datetime.datetime(2019, 4, 30, 18, 18, 34, tzinfo=<DstTzInfo 'America/Los_Angeles' PDT-1 day, 17:00:00 DST>),\n",
      " 'disconnectTime': datetime.datetime(2019, 4, 30, 19, 45, 36, tzinfo=<DstTzInfo 'America/Los_Angeles' PDT-1 day, 17:00:00 DST>),\n",
      " 'doneChargingTime': datetime.datetime(2019, 4, 30, 19, 45, 31, tzinfo=<DstTzInfo 'America/Los_Angeles' PDT-1 day, 17:00:00 DST>),\n",
      " 'kWhDelivered': 4.804,\n",
      " 'sessionID': '2_39_138_29_2019-05-01 01:18:34.430773',\n",
      " 'siteID': '0002',\n",
      " 'spaceID': 'CA-304',\n",
      " 'stationID': '2-39-138-29',\n",
      " 'timezone': 'America/Los_Angeles',\n",
      " 'userID': '000001164',\n",
      " 'userInputs': [{'WhPerMile': 525,\n",
      "                 'kWhRequested': 10.5,\n",
      "                 'milesRequested': 20,\n",
      "                 'minutesAvailable': 236,\n",
      "                 'modifiedAt': 'Wed, 01 May 2019 01:19:53 GMT',\n",
      "                 'paymentRequired': True,\n",
      "                 'requestedDeparture': 'Wed, 01 May 2019 05:14:34 GMT',\n",
      "                 'userID': 1164}]}\n"
     ]
    }
   ],
   "source": [
    "pprint.pprint(data[0])"
   ]
  },
  {
   "cell_type": "code",
   "execution_count": null,
   "id": "b363af97",
   "metadata": {},
   "outputs": [
    {
     "data": {
      "text/html": [
       "<div>\n",
       "<style scoped>\n",
       "    .dataframe tbody tr th:only-of-type {\n",
       "        vertical-align: middle;\n",
       "    }\n",
       "\n",
       "    .dataframe tbody tr th {\n",
       "        vertical-align: top;\n",
       "    }\n",
       "\n",
       "    .dataframe thead th {\n",
       "        text-align: right;\n",
       "    }\n",
       "</style>\n",
       "<table border=\"1\" class=\"dataframe\">\n",
       "  <thead>\n",
       "    <tr style=\"text-align: right;\">\n",
       "      <th></th>\n",
       "      <th>_id</th>\n",
       "      <th>userInputs</th>\n",
       "      <th>userID</th>\n",
       "      <th>sessionID</th>\n",
       "      <th>stationID</th>\n",
       "      <th>spaceID</th>\n",
       "      <th>siteID</th>\n",
       "      <th>clusterID</th>\n",
       "      <th>connectionTime</th>\n",
       "      <th>disconnectTime</th>\n",
       "      <th>kWhDelivered</th>\n",
       "      <th>doneChargingTime</th>\n",
       "      <th>timezone</th>\n",
       "      <th>kWhRequested</th>\n",
       "    </tr>\n",
       "  </thead>\n",
       "  <tbody>\n",
       "    <tr>\n",
       "      <th>0</th>\n",
       "      <td>5cde00a7f9af8b123b067201</td>\n",
       "      <td>[{'userID': 1164, 'milesRequested': 20, 'WhPer...</td>\n",
       "      <td>000001164</td>\n",
       "      <td>2_39_138_29_2019-05-01 01:18:34.430773</td>\n",
       "      <td>2-39-138-29</td>\n",
       "      <td>CA-304</td>\n",
       "      <td>0002</td>\n",
       "      <td>0039</td>\n",
       "      <td>2019-04-30 18:18:34-07:00</td>\n",
       "      <td>2019-04-30 19:45:36-07:00</td>\n",
       "      <td>4.804</td>\n",
       "      <td>2019-04-30 19:45:31-07:00</td>\n",
       "      <td>America/Los_Angeles</td>\n",
       "      <td>10.50</td>\n",
       "    </tr>\n",
       "    <tr>\n",
       "      <th>1</th>\n",
       "      <td>5cde00a7f9af8b123b067202</td>\n",
       "      <td>[{'userID': 1509, 'milesRequested': 30, 'WhPer...</td>\n",
       "      <td>000001509</td>\n",
       "      <td>2_39_127_19_2019-05-01 01:19:02.861477</td>\n",
       "      <td>2-39-127-19</td>\n",
       "      <td>CA-309</td>\n",
       "      <td>0002</td>\n",
       "      <td>0039</td>\n",
       "      <td>2019-04-30 18:19:03-07:00</td>\n",
       "      <td>2019-04-30 19:41:29-07:00</td>\n",
       "      <td>5.800</td>\n",
       "      <td>2019-04-30 19:18:44-07:00</td>\n",
       "      <td>America/Los_Angeles</td>\n",
       "      <td>12.00</td>\n",
       "    </tr>\n",
       "    <tr>\n",
       "      <th>2</th>\n",
       "      <td>5cde00a7f9af8b123b067203</td>\n",
       "      <td>[{'userID': 2192, 'milesRequested': 20, 'WhPer...</td>\n",
       "      <td>000002192</td>\n",
       "      <td>2_39_129_17_2019-05-01 01:35:21.105598</td>\n",
       "      <td>2-39-129-17</td>\n",
       "      <td>CA-307</td>\n",
       "      <td>0002</td>\n",
       "      <td>0039</td>\n",
       "      <td>2019-04-30 18:35:21-07:00</td>\n",
       "      <td>2019-04-30 19:43:40-07:00</td>\n",
       "      <td>7.725</td>\n",
       "      <td>2019-04-30 19:43:35-07:00</td>\n",
       "      <td>America/Los_Angeles</td>\n",
       "      <td>12.00</td>\n",
       "    </tr>\n",
       "    <tr>\n",
       "      <th>3</th>\n",
       "      <td>5cde00a7f9af8b123b067204</td>\n",
       "      <td>[{'userID': 1826, 'milesRequested': 80, 'WhPer...</td>\n",
       "      <td>000001826</td>\n",
       "      <td>2_39_139_28_2019-05-01 01:40:46.205473</td>\n",
       "      <td>2-39-139-28</td>\n",
       "      <td>CA-303</td>\n",
       "      <td>0002</td>\n",
       "      <td>0039</td>\n",
       "      <td>2019-04-30 18:40:56-07:00</td>\n",
       "      <td>2019-05-01 16:22:48-07:00</td>\n",
       "      <td>7.123</td>\n",
       "      <td>2019-04-30 19:52:43-07:00</td>\n",
       "      <td>America/Los_Angeles</td>\n",
       "      <td>32.00</td>\n",
       "    </tr>\n",
       "    <tr>\n",
       "      <th>4</th>\n",
       "      <td>5cde00a7f9af8b123b067205</td>\n",
       "      <td>[{'userID': 1099, 'milesRequested': 80, 'WhPer...</td>\n",
       "      <td>000001099</td>\n",
       "      <td>2_39_127_19_2019-05-01 03:27:30.968615</td>\n",
       "      <td>2-39-127-19</td>\n",
       "      <td>CA-309</td>\n",
       "      <td>0002</td>\n",
       "      <td>0039</td>\n",
       "      <td>2019-04-30 20:27:31-07:00</td>\n",
       "      <td>2019-04-30 22:39:48-07:00</td>\n",
       "      <td>13.504</td>\n",
       "      <td>2019-04-30 22:39:39-07:00</td>\n",
       "      <td>America/Los_Angeles</td>\n",
       "      <td>35.04</td>\n",
       "    </tr>\n",
       "  </tbody>\n",
       "</table>\n",
       "</div>"
      ],
      "text/plain": [
       "                        _id  \\\n",
       "0  5cde00a7f9af8b123b067201   \n",
       "1  5cde00a7f9af8b123b067202   \n",
       "2  5cde00a7f9af8b123b067203   \n",
       "3  5cde00a7f9af8b123b067204   \n",
       "4  5cde00a7f9af8b123b067205   \n",
       "\n",
       "                                          userInputs     userID  \\\n",
       "0  [{'userID': 1164, 'milesRequested': 20, 'WhPer...  000001164   \n",
       "1  [{'userID': 1509, 'milesRequested': 30, 'WhPer...  000001509   \n",
       "2  [{'userID': 2192, 'milesRequested': 20, 'WhPer...  000002192   \n",
       "3  [{'userID': 1826, 'milesRequested': 80, 'WhPer...  000001826   \n",
       "4  [{'userID': 1099, 'milesRequested': 80, 'WhPer...  000001099   \n",
       "\n",
       "                                sessionID    stationID spaceID siteID  \\\n",
       "0  2_39_138_29_2019-05-01 01:18:34.430773  2-39-138-29  CA-304   0002   \n",
       "1  2_39_127_19_2019-05-01 01:19:02.861477  2-39-127-19  CA-309   0002   \n",
       "2  2_39_129_17_2019-05-01 01:35:21.105598  2-39-129-17  CA-307   0002   \n",
       "3  2_39_139_28_2019-05-01 01:40:46.205473  2-39-139-28  CA-303   0002   \n",
       "4  2_39_127_19_2019-05-01 03:27:30.968615  2-39-127-19  CA-309   0002   \n",
       "\n",
       "  clusterID            connectionTime            disconnectTime  kWhDelivered  \\\n",
       "0      0039 2019-04-30 18:18:34-07:00 2019-04-30 19:45:36-07:00         4.804   \n",
       "1      0039 2019-04-30 18:19:03-07:00 2019-04-30 19:41:29-07:00         5.800   \n",
       "2      0039 2019-04-30 18:35:21-07:00 2019-04-30 19:43:40-07:00         7.725   \n",
       "3      0039 2019-04-30 18:40:56-07:00 2019-05-01 16:22:48-07:00         7.123   \n",
       "4      0039 2019-04-30 20:27:31-07:00 2019-04-30 22:39:48-07:00        13.504   \n",
       "\n",
       "           doneChargingTime             timezone  kWhRequested  \n",
       "0 2019-04-30 19:45:31-07:00  America/Los_Angeles         10.50  \n",
       "1 2019-04-30 19:18:44-07:00  America/Los_Angeles         12.00  \n",
       "2 2019-04-30 19:43:35-07:00  America/Los_Angeles         12.00  \n",
       "3 2019-04-30 19:52:43-07:00  America/Los_Angeles         32.00  \n",
       "4 2019-04-30 22:39:39-07:00  America/Los_Angeles         35.04  "
      ]
     },
     "execution_count": 62,
     "metadata": {},
     "output_type": "execute_result"
    }
   ],
   "source": [
    "df = pd.DataFrame(data)\n",
    "df['kWhRequested'] = [v[0].get('kWhRequested') if v else None for v in df.userInputs.values.tolist()]\n",
    "df.headd()"
   ]
  },
  {
   "cell_type": "code",
   "execution_count": null,
   "id": "9c8271e3",
   "metadata": {},
   "outputs": [
    {
     "data": {
      "text/plain": [
       "<AxesSubplot:xlabel='kWhDelivered', ylabel='kWhRequested'>"
      ]
     },
     "execution_count": 64,
     "metadata": {},
     "output_type": "execute_result"
    },
    {
     "data": {
      "image/png": "[encoded data removed]",
      "text/plain": [
       "<Figure size 432x288 with 1 Axes>"
      ]
     },
     "metadata": {
      "needs_background": "light"
     },
     "output_type": "display_data"
    }
   ],
   "source": [
    "df.plot.scatter('kWhDelivered', 'kWhRequested')"
   ]
  },
  {
   "cell_type": "code",
   "execution_count": null,
   "id": "ff91f187",
   "metadata": {},
   "outputs": [],
   "source": []
  }
 ],
 "metadata": {
  "kernelspec": {
   "display_name": "Python 3 (ipykernel)",
   "language": "python",
   "name": "python3"
  },
  "language_info": {
   "codemirror_mode": {
    "name": "ipython",
    "version": 3
   },
   "file_extension": ".py",
   "mimetype": "text/x-python",
   "name": "python",
   "nbconvert_exporter": "python",
   "pygments_lexer": "ipython3",
   "version": "3.8.12"
  }
 },
 "nbformat": 4,
 "nbformat_minor": 5
}
