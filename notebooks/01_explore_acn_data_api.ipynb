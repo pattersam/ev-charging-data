{
 "cells": [
  {
   "cell_type": "markdown",
   "id": "fae9d74c",
   "metadata": {},
   "source": [
    "# Initial exploration of the ACN-Data API\n",
    "\n",
    "Uses the HTTP API of the [ACN-Data](https://ev.caltech.edu/dataset) to download the data and inspect it.\n",
    "\n",
    "Note, this requires an API Token for the ACN-Data API to be set as the `ACN_DATA_API_TOKEN` environment variable, or provided as a parameter if using [papermill](https://papermill.readthedocs.io/en/latest/index.html) to run the notebook."
   ]
  },
  {
   "cell_type": "code",
   "execution_count": 65,
   "id": "70141ebb",
   "metadata": {},
   "outputs": [],
   "source": [
    "import datetime\n",
    "import os\n",
    "import pandas as pd\n",
    "import pprint\n",
    "import seaborn as sns\n",
    "\n",
    "from acnportal.acndata import DataClient"
   ]
  },
  {
   "cell_type": "code",
   "execution_count": 2,
   "id": "e21e58f2",
   "metadata": {
    "tags": [
     "parameters"
    ]
   },
   "outputs": [],
   "source": [
    "ACN_DATA_API_URL = 'https://ev.caltech.edu/api/v1/'\n",
    "ACN_DATA_API_TOKEN = os.getenv('ACN_DATA_API_TOKEN')\n",
    "START_TIME = '2019-05-01T00:00:00+00:00'  # ISO Format\n",
    "END_TIME = '2019-05-02T00:00:00+00:00'    # ISO Format"
   ]
  },
  {
   "cell_type": "code",
   "execution_count": 18,
   "id": "52f80629",
   "metadata": {},
   "outputs": [
    {
     "name": "stdout",
     "output_type": "stream",
     "text": [
      "44 rows collected\n"
     ]
    }
   ],
   "source": [
    "client = DataClient(ACN_DATA_API_TOKEN, ACN_DATA_API_URL)\n",
    "\n",
    "res = client.get_sessions_by_time(\n",
    "    'caltech',\n",
    "    start=datetime.datetime.fromisoformat(START_TIME),\n",
    "    end=datetime.datetime.fromisoformat(END_TIME),\n",
    ")\n",
    "\n",
    "data = list(res)\n",
    "\n",
    "print(f\"{len(data)} rows collected\")"
   ]
  },
  {
   "cell_type": "code",
   "execution_count": 19,
   "id": "4c31c4bd",
   "metadata": {},
   "outputs": [
    {
     "name": "stdout",
     "output_type": "stream",
     "text": [
      "{'_id': '5cde00a7f9af8b123b067201',\n",
      " 'clusterID': '0039',\n",
      " 'connectionTime': datetime.datetime(2019, 4, 30, 18, 18, 34, tzinfo=<DstTzInfo 'America/Los_Angeles' PDT-1 day, 17:00:00 DST>),\n",
      " 'disconnectTime': datetime.datetime(2019, 4, 30, 19, 45, 36, tzinfo=<DstTzInfo 'America/Los_Angeles' PDT-1 day, 17:00:00 DST>),\n",
      " 'doneChargingTime': datetime.datetime(2019, 4, 30, 19, 45, 31, tzinfo=<DstTzInfo 'America/Los_Angeles' PDT-1 day, 17:00:00 DST>),\n",
      " 'kWhDelivered': 4.804,\n",
      " 'sessionID': '2_39_138_29_2019-05-01 01:18:34.430773',\n",
      " 'siteID': '0002',\n",
      " 'spaceID': 'CA-304',\n",
      " 'stationID': '2-39-138-29',\n",
      " 'timezone': 'America/Los_Angeles',\n",
      " 'userID': '000001164',\n",
      " 'userInputs': [{'WhPerMile': 525,\n",
      "                 'kWhRequested': 10.5,\n",
      "                 'milesRequested': 20,\n",
      "                 'minutesAvailable': 236,\n",
      "                 'modifiedAt': 'Wed, 01 May 2019 01:19:53 GMT',\n",
      "                 'paymentRequired': True,\n",
      "                 'requestedDeparture': 'Wed, 01 May 2019 05:14:34 GMT',\n",
      "                 'userID': 1164}]}\n"
     ]
    }
   ],
   "source": [
    "pprint.pprint(data[0])"
   ]
  },
  {
   "cell_type": "code",
   "execution_count": null,
   "id": "b363af97",
   "metadata": {},
   "outputs": [],
   "source": [
    "df = pd.DataFrame(data)\n",
    "\n",
    "# naive unpacking of 'userInputs' list\n",
    "for k in data[0]['userInputs'][0]:\n",
    "    df[k] = [v[0].get(k) if v else None for v in df.userInputs.values.tolist()]\n",
    "df.head()"
   ]
  },
  {
   "cell_type": "code",
   "execution_count": 68,
   "id": "2e1759b6",
   "metadata": {},
   "outputs": [
    {
     "data": {
      "text/plain": [
       "<AxesSubplot:xlabel='kWhDelivered', ylabel='kWhRequested'>"
      ]
     },
     "execution_count": 68,
     "metadata": {},
     "output_type": "execute_result"
    },
    {
     "data": {
      "image/png": "[encoded data removed]",
      "text/plain": [
       "<Figure size 432x288 with 1 Axes>"
      ]
     },
     "metadata": {
      "needs_background": "light"
     },
     "output_type": "display_data"
    }
   ],
   "source": [
    "sns.regplot(x = df['kWhDelivered'], y = df['kWhRequested'])"
   ]
  },
  {
   "cell_type": "code",
   "execution_count": null,
   "id": "59542c27",
   "metadata": {},
   "outputs": [],
   "source": []
  }
 ],
 "metadata": {
  "kernelspec": {
   "display_name": "Python 3 (ipykernel)",
   "language": "python",
   "name": "python3"
  },
  "language_info": {
   "codemirror_mode": {
    "name": "ipython",
    "version": 3
   },
   "file_extension": ".py",
   "mimetype": "text/x-python",
   "name": "python",
   "nbconvert_exporter": "python",
   "pygments_lexer": "ipython3",
   "version": "3.8.12"
  }
 },
 "nbformat": 4,
 "nbformat_minor": 5
}
